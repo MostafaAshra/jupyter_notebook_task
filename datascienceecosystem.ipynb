{
 "cells": [
  {
   "cell_type": "markdown",
   "id": "fbb5aa3f",
   "metadata": {},
   "source": [
    "# Data Science tools and Ecosystem"
   ]
  },
  {
   "cell_type": "markdown",
   "id": "678da78e",
   "metadata": {},
   "source": [
    "In this notebook , data science and ecosystems are summarized"
   ]
  },
  {
   "cell_type": "markdown",
   "id": "6fed948e",
   "metadata": {},
   "source": [
    "**objectives:\n",
    "- data science languages\n",
    "- data science tools \n",
    "- arithematic exepressions\n",
    "\n"
   ]
  },
  {
   "cell_type": "markdown",
   "id": "239f7dd9",
   "metadata": {},
   "source": [
    "some of popular languages that used in data science are:\n",
    "1. R\n",
    "2. python\n",
    "3. sql"
   ]
  },
  {
   "cell_type": "markdown",
   "id": "36faeed2",
   "metadata": {},
   "source": [
    "some of the commonly used libraries used by data scientests include:\n",
    "1. ggplot\n",
    "2. ploty\n",
    "3. lattic\n",
    "4. leaflet"
   ]
  },
  {
   "cell_type": "markdown",
   "id": "05a62e34",
   "metadata": {},
   "source": [
    "|data science tools|\n",
    "|:----------------:|\n",
    "|apache spark      |\n",
    "|hadoop            |\n",
    "|mongoDB           |"
   ]
  },
  {
   "cell_type": "markdown",
   "id": "4d2b6758",
   "metadata": {},
   "source": [
    "### below are a few examples of evaluating arithematic expression in python "
   ]
  },
  {
   "cell_type": "code",
   "execution_count": 1,
   "id": "70de01ff",
   "metadata": {},
   "outputs": [
    {
     "data": {
      "text/plain": [
       "17"
      ]
     },
     "execution_count": 1,
     "metadata": {},
     "output_type": "execute_result"
    }
   ],
   "source": [
    "# this is a simple arithematic expression to multiply then add integers\n",
    "(3*4)+5"
   ]
  },
  {
   "cell_type": "code",
   "execution_count": 2,
   "id": "c9b32194",
   "metadata": {},
   "outputs": [
    {
     "data": {
      "text/plain": [
       "3.3333333333333335"
      ]
     },
     "execution_count": 2,
     "metadata": {},
     "output_type": "execute_result"
    }
   ],
   "source": [
    "# this will convert 200 minuits to hours by divide by 60\n",
    "200/60"
   ]
  },
  {
   "cell_type": "markdown",
   "id": "d55608bf",
   "metadata": {},
   "source": [
    "## Aurhor\n",
    "Mostafa Ashraf"
   ]
  }
 ],
 "metadata": {
  "kernelspec": {
   "display_name": "Python 3 (ipykernel)",
   "language": "python",
   "name": "python3"
  },
  "language_info": {
   "codemirror_mode": {
    "name": "ipython",
    "version": 3
   },
   "file_extension": ".py",
   "mimetype": "text/x-python",
   "name": "python",
   "nbconvert_exporter": "python",
   "pygments_lexer": "ipython3",
   "version": "3.11.4"
  }
 },
 "nbformat": 4,
 "nbformat_minor": 5
}
